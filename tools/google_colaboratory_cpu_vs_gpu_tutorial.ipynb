{
 "cells": [
  {
   "cell_type": "markdown",
   "metadata": {
    "colab_type": "text",
    "id": "q1dEw-XVkzUT"
   },
   "source": [
    "# Gradient Boosting: CPU vs GPU\n",
    "This is a basic tuturoal which shows how to run gradient boosting on CPU and GPU on Google Colaboratory. It will give you an opportunity to see the speedup that you get from GPU training. The speedup is large even on Tesla K80 that is available in Colaboratory. On newer generations of GPU the speedup will be much bigger.\n",
    "\n",
    "We will use CatBoost gradient boosting library, which is known for it's good GPU performance.\n",
    "  \n",
    " You could try it out on Colaboratory, just pressing on the following badge:  \n",
    " \n",
    "[![Open In Colab](https://colab.research.google.com/assets/colab-badge.svg)](https://colab.research.google.com/github/catboost/tutorials/blob/master/tools/google_colaboratory_cpu_vs_gpu_tutorial.ipynb) "
   ]
  },
  {
   "cell_type": "markdown",
   "metadata": {
    "colab_type": "text",
    "id": "wPOIzC8amcEk"
   },
   "source": [
    "## Set GPU as hardware accelerator\n",
    "First of all, you need to select GPU as hardware accelerator. There are two simple steps to do so:  \n",
    "Step 1. Navigate to 'Runtime' menu and select 'Change runtime type'  \n",
    "Step 2. Choose GPU as hardware accelerator.  \n",
    "That's all!"
   ]
  },
  {
   "cell_type": "markdown",
   "metadata": {
    "colab_type": "text",
    "id": "SvkCBNqRkX1t"
   },
   "source": [
    "## Importing CatBoost\n",
    "\n",
    "Next big thing is to import CatBoost inside environment. Colaboratory has built in libraries installed and most libraries can be installed quickly with a simple *!pip install* command.  \n",
    "Please take notice you need to re-import library every time you starts new session of Colab."
   ]
  },
  {
   "cell_type": "code",
   "execution_count": 1,
   "metadata": {
    "colab": {
     "base_uri": "https://localhost:8080/",
     "height": 272
    },
    "colab_type": "code",
    "executionInfo": {
     "elapsed": 12611,
     "status": "ok",
     "timestamp": 1548056426612,
     "user": {
      "displayName": "Sergey Brazhnik",
      "photoUrl": "https://lh3.googleusercontent.com/-qx9xOxVVPXo/AAAAAAAAAAI/AAAAAAAAA0Q/8-j43i6dgow/s64/photo.jpg",
      "userId": "09427549251805676502"
     },
     "user_tz": -420
    },
    "id": "5A8e1XP3kqTx",
    "outputId": "4968a434-cf65-4d69-a639-520550c0026f"
   },
   "outputs": [
    {
     "name": "stdout",
     "output_type": "stream",
     "text": [
      "Collecting catboost\n",
      "\u001b[?25l  Downloading https://files.pythonhosted.org/packages/98/03/777a0e1c12571a7f3320a4fa6d5f123dba2dd7c0bca34f4f698a6396eb48/catboost-0.12.2-cp36-none-manylinux1_x86_64.whl (55.5MB)\n",
      "\u001b[K    100% |████████████████████████████████| 55.5MB 858kB/s \n",
      "\u001b[?25hRequirement already satisfied: numpy>=1.11.1 in /usr/local/lib/python3.6/dist-packages (from catboost) (1.14.6)\n",
      "Requirement already satisfied: pandas>=0.19.1 in /usr/local/lib/python3.6/dist-packages (from catboost) (0.22.0)\n",
      "Collecting enum34 (from catboost)\n",
      "  Downloading https://files.pythonhosted.org/packages/af/42/cb9355df32c69b553e72a2e28daee25d1611d2c0d9c272aa1d34204205b2/enum34-1.1.6-py3-none-any.whl\n",
      "Requirement already satisfied: six in /usr/local/lib/python3.6/dist-packages (from catboost) (1.11.0)\n",
      "Requirement already satisfied: pytz>=2011k in /usr/local/lib/python3.6/dist-packages (from pandas>=0.19.1->catboost) (2018.9)\n",
      "Requirement already satisfied: python-dateutil>=2 in /usr/local/lib/python3.6/dist-packages (from pandas>=0.19.1->catboost) (2.5.3)\n",
      "Installing collected packages: enum34, catboost\n",
      "Successfully installed catboost-0.12.2 enum34-1.1.6\n",
      "\u001b[0;31;1mWARNING: The following packages were previously imported in this runtime:\n",
      "  [enum]\n",
      "You must restart the runtime in order to use newly installed versions.\u001b[0m\n"
     ]
    }
   ],
   "source": [
    "!pip install catboost"
   ]
  },
  {
   "cell_type": "markdown",
   "metadata": {
    "colab_type": "text",
    "id": "UKnT_rYWWhD8"
   },
   "source": [
    "##Download and prepare dataset\n",
    "The next step is dataset downloading. GPU training is useful for large datsets. You will get a good speedup starting from 10k objects and the more objects you have, the more will be the speedup.\n",
    "Because of that reason we have selected a large dataset - [Epsilon](https://www.csie.ntu.edu.tw/~cjlin/libsvmtools/datasets/binary.html) (500.000 documents and 2.000 features) for this tutorial.\n",
    "Firstly, we will get the data through catboost.datasets module. The code below does this. It will run for approximately 10-15 minutes. So please be patient :)"
   ]
  },
  {
   "cell_type": "code",
   "execution_count": 0,
   "metadata": {
    "colab": {},
    "colab_type": "code",
    "id": "lzWG0GeAHVg9"
   },
   "outputs": [],
   "source": [
    "from catboost.datasets import epsilon\n",
    "\n",
    "train, test = epsilon()\n",
    "\n",
    "X_train, y_train = train.iloc[:,1:], train[0]\n",
    "X_test, y_test = train.iloc[:,1:], train[0]"
   ]
  },
  {
   "cell_type": "markdown",
   "metadata": {
    "colab_type": "text",
    "id": "5JhczRSqBFnd"
   },
   "source": [
    "## Training on CPU\n",
    "Now we will train the model on CPU and measure execution time.\n",
    "We will use 100 iterations for our CPU training since otherwise it will take a long time.\n",
    "It will take around 15 minutes."
   ]
  },
  {
   "cell_type": "code",
   "execution_count": 3,
   "metadata": {
    "colab": {
     "base_uri": "https://localhost:8080/",
     "height": 459
    },
    "colab_type": "code",
    "executionInfo": {
     "elapsed": 878612,
     "status": "ok",
     "timestamp": 1548058143636,
     "user": {
      "displayName": "Sergey Brazhnik",
      "photoUrl": "https://lh3.googleusercontent.com/-qx9xOxVVPXo/AAAAAAAAAAI/AAAAAAAAA0Q/8-j43i6dgow/s64/photo.jpg",
      "userId": "09427549251805676502"
     },
     "user_tz": -420
    },
    "id": "3wuVZsTGC7WO",
    "outputId": "df86e268-d878-4ca4-f89e-be2247866354"
   },
   "outputs": [
    {
     "name": "stdout",
     "output_type": "stream",
     "text": [
      "0:\tlearn: 0.6648425\ttest: 0.6648425\tbest: 0.6648425 (0)\ttotal: 7.65s\tremaining: 12m 37s\n",
      "5:\tlearn: 0.6920775\ttest: 0.6920775\tbest: 0.6920775 (5)\ttotal: 44.6s\tremaining: 11m 38s\n",
      "10:\tlearn: 0.7009275\ttest: 0.7009275\tbest: 0.7009275 (10)\ttotal: 1m 20s\tremaining: 10m 51s\n",
      "15:\tlearn: 0.7111575\ttest: 0.7111575\tbest: 0.7111575 (15)\ttotal: 1m 55s\tremaining: 10m 7s\n",
      "20:\tlearn: 0.7219325\ttest: 0.7219325\tbest: 0.7219325 (20)\ttotal: 2m 31s\tremaining: 9m 31s\n",
      "25:\tlearn: 0.7294100\ttest: 0.7294100\tbest: 0.7294100 (25)\ttotal: 3m 7s\tremaining: 8m 52s\n",
      "30:\tlearn: 0.7375125\ttest: 0.7375125\tbest: 0.7375125 (30)\ttotal: 3m 41s\tremaining: 8m 12s\n",
      "35:\tlearn: 0.7445875\ttest: 0.7445875\tbest: 0.7445875 (35)\ttotal: 4m 14s\tremaining: 7m 32s\n",
      "40:\tlearn: 0.7499600\ttest: 0.7499600\tbest: 0.7499600 (40)\ttotal: 4m 48s\tremaining: 6m 55s\n",
      "45:\tlearn: 0.7549100\ttest: 0.7549100\tbest: 0.7549100 (45)\ttotal: 5m 21s\tremaining: 6m 17s\n",
      "50:\tlearn: 0.7599000\ttest: 0.7599000\tbest: 0.7599000 (50)\ttotal: 5m 53s\tremaining: 5m 40s\n",
      "55:\tlearn: 0.7638150\ttest: 0.7638150\tbest: 0.7638150 (55)\ttotal: 6m 24s\tremaining: 5m 2s\n",
      "60:\tlearn: 0.7686725\ttest: 0.7686725\tbest: 0.7686725 (60)\ttotal: 6m 58s\tremaining: 4m 27s\n",
      "65:\tlearn: 0.7727550\ttest: 0.7727550\tbest: 0.7727550 (65)\ttotal: 7m 31s\tremaining: 3m 52s\n",
      "70:\tlearn: 0.7763300\ttest: 0.7763300\tbest: 0.7763300 (70)\ttotal: 8m 2s\tremaining: 3m 17s\n",
      "75:\tlearn: 0.7798575\ttest: 0.7798575\tbest: 0.7798575 (75)\ttotal: 8m 33s\tremaining: 2m 42s\n",
      "80:\tlearn: 0.7825750\ttest: 0.7825750\tbest: 0.7825750 (80)\ttotal: 9m 6s\tremaining: 2m 8s\n",
      "85:\tlearn: 0.7860050\ttest: 0.7860050\tbest: 0.7860050 (85)\ttotal: 9m 39s\tremaining: 1m 34s\n",
      "90:\tlearn: 0.7885500\ttest: 0.7885500\tbest: 0.7885500 (90)\ttotal: 10m 13s\tremaining: 1m\n",
      "95:\tlearn: 0.7913825\ttest: 0.7913825\tbest: 0.7913825 (95)\ttotal: 10m 47s\tremaining: 27s\n",
      "99:\tlearn: 0.7932025\ttest: 0.7932025\tbest: 0.7932025 (99)\ttotal: 11m 12s\tremaining: 0us\n",
      "\n",
      "bestTest = 0.7932025\n",
      "bestIteration = 99\n",
      "\n",
      "Time to fit model on CPU: 877 sec\n"
     ]
    }
   ],
   "source": [
    "from catboost import CatBoostClassifier\n",
    "import timeit\n",
    "\n",
    "def train_on_cpu():  \n",
    "  model = CatBoostClassifier(\n",
    "    iterations=100,\n",
    "    learning_rate=0.03,\n",
    "    eval_metric='Accuracy',\n",
    "  )\n",
    "  \n",
    "  model.fit(\n",
    "      X_train, y_train,\n",
    "      eval_set=(X_test, y_test),\n",
    "      verbose=5\n",
    "  );   \n",
    "      \n",
    "cpu_time = timeit.timeit('train_on_cpu()', setup=\"from __main__ import train_on_cpu\", number=1)\n",
    "\n",
    "print('Time to fit model on CPU: {} sec'.format(int(cpu_time)))"
   ]
  },
  {
   "cell_type": "markdown",
   "metadata": {
    "colab_type": "text",
    "id": "m0EafIhX-SgH"
   },
   "source": [
    "Take notice that learning time itself wothout data feeding is around 12 minutes. Whereas all the process consumes 14-15 min."
   ]
  },
  {
   "cell_type": "markdown",
   "metadata": {
    "colab_type": "text",
    "id": "C1jsWgxhCLTX"
   },
   "source": [
    "## Training on GPU\n",
    "The previous code execution has been done on CPU. It's time to use GPU!  \n",
    "We need to use '*task_type='GPU'*' parameter value to run GPU training. Now the execution time wouldn't be so big :)  \n",
    "BTW if Colaboratory shows you a warning 'GPU memory usage is close to the limit', just press 'Ignore'."
   ]
  },
  {
   "cell_type": "code",
   "execution_count": 4,
   "metadata": {
    "colab": {
     "base_uri": "https://localhost:8080/",
     "height": 442
    },
    "colab_type": "code",
    "executionInfo": {
     "elapsed": 204442,
     "status": "ok",
     "timestamp": 1548058353310,
     "user": {
      "displayName": "Sergey Brazhnik",
      "photoUrl": "https://lh3.googleusercontent.com/-qx9xOxVVPXo/AAAAAAAAAAI/AAAAAAAAA0Q/8-j43i6dgow/s64/photo.jpg",
      "userId": "09427549251805676502"
     },
     "user_tz": -420
    },
    "id": "Oq4Lpx1veXnI",
    "outputId": "c99cfc0d-ec05-4017-a04b-f97140b8a311"
   },
   "outputs": [
    {
     "name": "stdout",
     "output_type": "stream",
     "text": [
      "0:\tlearn: 0.6652575\ttest: 0.6652575\tbest: 0.6652575 (0)\ttotal: 329ms\tremaining: 32.6s\n",
      "5:\tlearn: 0.6936800\ttest: 0.6936800\tbest: 0.6936800 (5)\ttotal: 1.48s\tremaining: 23.2s\n",
      "10:\tlearn: 0.7041750\ttest: 0.7041750\tbest: 0.7041750 (10)\ttotal: 2.56s\tremaining: 20.7s\n",
      "15:\tlearn: 0.7138950\ttest: 0.7138950\tbest: 0.7138950 (15)\ttotal: 3.61s\tremaining: 18.9s\n",
      "20:\tlearn: 0.7232200\ttest: 0.7232200\tbest: 0.7232200 (20)\ttotal: 4.65s\tremaining: 17.5s\n",
      "25:\tlearn: 0.7311075\ttest: 0.7311075\tbest: 0.7311075 (25)\ttotal: 5.67s\tremaining: 16.1s\n",
      "30:\tlearn: 0.7377725\ttest: 0.7377725\tbest: 0.7377725 (30)\ttotal: 6.67s\tremaining: 14.8s\n",
      "35:\tlearn: 0.7443750\ttest: 0.7443750\tbest: 0.7443750 (35)\ttotal: 7.67s\tremaining: 13.6s\n",
      "40:\tlearn: 0.7491000\ttest: 0.7491000\tbest: 0.7491000 (40)\ttotal: 8.66s\tremaining: 12.5s\n",
      "45:\tlearn: 0.7551175\ttest: 0.7551175\tbest: 0.7551175 (45)\ttotal: 9.67s\tremaining: 11.4s\n",
      "50:\tlearn: 0.7600325\ttest: 0.7600325\tbest: 0.7600325 (50)\ttotal: 10.7s\tremaining: 10.3s\n",
      "55:\tlearn: 0.7655850\ttest: 0.7655850\tbest: 0.7655850 (55)\ttotal: 11.7s\tremaining: 9.16s\n",
      "60:\tlearn: 0.7700825\ttest: 0.7700825\tbest: 0.7700825 (60)\ttotal: 12.7s\tremaining: 8.11s\n",
      "65:\tlearn: 0.7738800\ttest: 0.7738800\tbest: 0.7738800 (65)\ttotal: 13.6s\tremaining: 7.02s\n",
      "70:\tlearn: 0.7771050\ttest: 0.7771050\tbest: 0.7771050 (70)\ttotal: 14.6s\tremaining: 5.96s\n",
      "75:\tlearn: 0.7804250\ttest: 0.7804250\tbest: 0.7804250 (75)\ttotal: 15.6s\tremaining: 4.92s\n",
      "80:\tlearn: 0.7836800\ttest: 0.7836800\tbest: 0.7836800 (80)\ttotal: 16.6s\tremaining: 3.89s\n",
      "85:\tlearn: 0.7867650\ttest: 0.7867650\tbest: 0.7867650 (85)\ttotal: 17.6s\tremaining: 2.87s\n",
      "90:\tlearn: 0.7893300\ttest: 0.7893300\tbest: 0.7893300 (90)\ttotal: 18.6s\tremaining: 1.84s\n",
      "95:\tlearn: 0.7921225\ttest: 0.7921225\tbest: 0.7921225 (95)\ttotal: 19.5s\tremaining: 813ms\n",
      "99:\tlearn: 0.7937775\ttest: 0.7937775\tbest: 0.7937775 (99)\ttotal: 20.3s\tremaining: 0us\n",
      "bestTest = 0.7937775\n",
      "bestIteration = 99\n",
      "Time to fit model on GPU: 203 sec\n",
      "GPU speedup over CPU: 4x\n"
     ]
    }
   ],
   "source": [
    "def train_on_gpu():  \n",
    "  model = CatBoostClassifier(\n",
    "    iterations=100,\n",
    "    learning_rate=0.03,\n",
    "    eval_metric='Accuracy',\n",
    "    task_type='GPU'\n",
    "  )\n",
    "  \n",
    "  model.fit(\n",
    "      X_train, y_train,\n",
    "      eval_set=(X_test, y_test),\n",
    "      verbose=5\n",
    "  );     \n",
    "      \n",
    "gpu_time = timeit.timeit('train_on_gpu()', setup=\"from __main__ import train_on_gpu\", number=1)\n",
    "\n",
    "print('Time to fit model on GPU: {} sec'.format(int(gpu_time)))\n",
    "print('GPU speedup over CPU: {}x'.format(int(cpu_time/gpu_time)))"
   ]
  },
  {
   "cell_type": "markdown",
   "metadata": {
    "colab_type": "text",
    "id": "fp4-J4YlbDxF"
   },
   "source": [
    "As you can see GPU is much faster than CPU on large datasets. It takes just 3-4 mins vs 14-15 mins to fit the model. Moreover learning process consumes just 30 seconds vs 12 minutes! This is a good reason to use GPU instead of CPU!\n",
    "  \n",
    "Thank you for attention! "
   ]
  }
 ],
 "metadata": {
  "accelerator": "GPU",
  "colab": {
   "collapsed_sections": [],
   "name": "colaboratory_cpu_vs_gpu_tutorial.ipynb",
   "provenance": [
    {
     "file_id": "1iLzXm9f0oWYkukSgAh-9silP2T9MpERH",
     "timestamp": 1545215978704
    },
    {
     "file_id": "1yFVSjdR2nIWeQvOd5-rMdtLRHcI3lx-0",
     "timestamp": 1545214576187
    }
   ],
   "toc_visible": true,
   "version": "0.3.2"
  },
  "kernelspec": {
   "display_name": "Python 3",
   "language": "python",
   "name": "python3"
  },
  "language_info": {
   "codemirror_mode": {
    "name": "ipython",
    "version": 3
   },
   "file_extension": ".py",
   "mimetype": "text/x-python",
   "name": "python",
   "nbconvert_exporter": "python",
   "pygments_lexer": "ipython3",
   "version": "3.7.1"
  }
 },
 "nbformat": 4,
 "nbformat_minor": 1
}
