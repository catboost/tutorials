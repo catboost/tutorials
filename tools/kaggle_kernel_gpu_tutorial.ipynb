{
 "cells": [
  {
   "cell_type": "markdown",
   "metadata": {
    "_uuid": "b9f8b9f29049ccce55c4c3019bdd0e98e4149931"
   },
   "source": [
    "In this kernel we generate large dataset and compare performance of CatBoost CPU and Kaggle GPU Tesla K80 learning on it.\n",
    "\n",
    "You can play this tutorial on kaggle with make new kernel on https://www.kaggle.com/kernels and upload this notebook. \n",
    "For use it you would have to register a kaggle account or just login with facebook or google+."
   ]
  },
  {
   "cell_type": "code",
   "execution_count": 26,
   "metadata": {
    "_cell_guid": "b1076dfc-b9ad-4769-8c92-a6c4dae69d19",
    "_uuid": "8f2839f25d086af736a60e9eeb907d3b93b6e0e5"
   },
   "outputs": [],
   "source": [
    "import numpy as np \n",
    "import pandas as pd \n",
    "from catboost import CatBoostRegressor"
   ]
  },
  {
   "cell_type": "markdown",
   "metadata": {
    "_uuid": "f309e940446ab487b3dc4d64fddbd6a3ac1a50dd"
   },
   "source": [
    "Generate large dataset with $10^5$ samples and $2000$ featured. "
   ]
  },
  {
   "cell_type": "code",
   "execution_count": 27,
   "metadata": {
    "_kg_hide-input": false,
    "_kg_hide-output": false,
    "_uuid": "a7ae110ea18a530994898749fe60a43df73aa40b",
    "scrolled": true
   },
   "outputs": [],
   "source": [
    "train_data = np.random.rand(10 ** 5, 2000)\n",
    "train_labels = np.random.rand(10 ** 5)"
   ]
  },
  {
   "cell_type": "markdown",
   "metadata": {
    "_uuid": "f27cf281c896a00478e1b48a0242d09e3eb8ce84"
   },
   "source": [
    "Compare a two CatBoostRegressor with 400 iterations and 0.05 rearning_rate"
   ]
  },
  {
   "cell_type": "markdown",
   "metadata": {
    "_uuid": "933db5d05fca8997736282db434ade956d1ef9b7"
   },
   "source": [
    "Train a classification model on GPU:"
   ]
  },
  {
   "cell_type": "code",
   "execution_count": 30,
   "metadata": {
    "_cell_guid": "79c7e3d0-c299-4dcb-8224-4455121ee9b0",
    "_uuid": "d629ff2d2480ee46fbb7e2d37f6b5fab8052498a"
   },
   "outputs": [
    {
     "name": "stdout",
     "output_type": "stream",
     "text": [
      "0:\tlearn: 0.5559796\ttotal: 79.8ms\tremaining: 31.9s\n",
      "50:\tlearn: 0.2898591\ttotal: 2.85s\tremaining: 19.5s\n",
      "100:\tlearn: 0.2867111\ttotal: 5.51s\tremaining: 16.3s\n",
      "150:\tlearn: 0.2858251\ttotal: 8.19s\tremaining: 13.5s\n",
      "200:\tlearn: 0.2849705\ttotal: 10.9s\tremaining: 10.8s\n",
      "250:\tlearn: 0.2841140\ttotal: 13.6s\tremaining: 8.07s\n",
      "300:\tlearn: 0.2832128\ttotal: 16.3s\tremaining: 5.37s\n",
      "350:\tlearn: 0.2822939\ttotal: 19s\tremaining: 2.66s\n",
      "399:\tlearn: 0.2814030\ttotal: 21.8s\tremaining: 0us\n",
      "CPU times: user 1min 19s, sys: 22.5 s, total: 1min 42s\n",
      "Wall time: 1min 15s\n"
     ]
    }
   ],
   "source": [
    "%%time\n",
    "model = CatBoostRegressor(\n",
    "    iterations=400,\n",
    "    learning_rate=0.05,\n",
    "    task_type = \"GPU\"\n",
    ")\n",
    "model.fit(train_data, train_labels, verbose = 50)"
   ]
  },
  {
   "cell_type": "markdown",
   "metadata": {
    "_uuid": "dbd8bce117a640aabd21e781ed7f53a9b690338d"
   },
   "source": [
    "Need  ***1 min 15 s*** for for fit CatBoosst use GPU"
   ]
  },
  {
   "cell_type": "markdown",
   "metadata": {
    "_uuid": "50b7762bd15d69f35b9879ca5afcaf07744dc560"
   },
   "source": [
    "Train a classification model on CPU:"
   ]
  },
  {
   "cell_type": "code",
   "execution_count": 31,
   "metadata": {
    "_uuid": "e41bb0b2c44388a33f45135926934fb386751ed5",
    "scrolled": true
   },
   "outputs": [
    {
     "name": "stdout",
     "output_type": "stream",
     "text": [
      "0:\tlearn: 0.5559864\ttotal: 1.6s\tremaining: 10m 37s\n",
      "50:\tlearn: 0.2901072\ttotal: 1m 12s\tremaining: 8m 13s\n",
      "100:\tlearn: 0.2871727\ttotal: 2m 20s\tremaining: 6m 56s\n",
      "150:\tlearn: 0.2865022\ttotal: 3m 26s\tremaining: 5m 40s\n",
      "200:\tlearn: 0.2858296\ttotal: 4m 32s\tremaining: 4m 29s\n",
      "250:\tlearn: 0.2850576\ttotal: 5m 37s\tremaining: 3m 20s\n",
      "300:\tlearn: 0.2841886\ttotal: 6m 42s\tremaining: 2m 12s\n",
      "350:\tlearn: 0.2832738\ttotal: 7m 48s\tremaining: 1m 5s\n",
      "399:\tlearn: 0.2823920\ttotal: 8m 51s\tremaining: 0us\n",
      "CPU times: user 18min 42s, sys: 10.1 s, total: 18min 52s\n",
      "Wall time: 9min 48s\n"
     ]
    }
   ],
   "source": [
    "%%time\n",
    "model = CatBoostRegressor(\n",
    "    iterations=400,\n",
    "    learning_rate=0.05,\n",
    "    thread_count=-1\n",
    ")\n",
    "model.fit(train_data, train_labels, verbose = 50)"
   ]
  },
  {
   "cell_type": "markdown",
   "metadata": {
    "_uuid": "77142de10217a8ae3a9757d996945a8426f52a7c"
   },
   "source": [
    "Need   ***9min 48s*** for for fit CatBoosst use *two cores* CPU"
   ]
  },
  {
   "cell_type": "markdown",
   "metadata": {
    "_uuid": "6db2ffc547f263ab9f209bdab8ad262509e5592a"
   },
   "source": [
    "We can see than on large datasets the advantages of GPU become very noticeable."
   ]
  }
 ],
 "metadata": {
  "kernelspec": {
   "display_name": "Python 3",
   "language": "python",
   "name": "python3"
  },
  "language_info": {
   "codemirror_mode": {
    "name": "ipython",
    "version": 3
   },
   "file_extension": ".py",
   "mimetype": "text/x-python",
   "name": "python",
   "nbconvert_exporter": "python",
   "pygments_lexer": "ipython3",
   "version": "3.6.1"
  },
  "toc": {
   "base_numbering": 1,
   "nav_menu": {},
   "number_sections": false,
   "sideBar": true,
   "skip_h1_title": false,
   "title_cell": "Table of Contents",
   "title_sidebar": "Contents",
   "toc_cell": false,
   "toc_position": {},
   "toc_section_display": true,
   "toc_window_display": false
  },
  "varInspector": {
   "cols": {
    "lenName": 16,
    "lenType": 16,
    "lenVar": 40
   },
   "kernels_config": {
    "python": {
     "delete_cmd_postfix": "",
     "delete_cmd_prefix": "del ",
     "library": "var_list.py",
     "varRefreshCmd": "print(var_dic_list())"
    },
    "r": {
     "delete_cmd_postfix": ") ",
     "delete_cmd_prefix": "rm(",
     "library": "var_list.r",
     "varRefreshCmd": "cat(var_dic_list()) "
    }
   },
   "types_to_exclude": [
    "module",
    "function",
    "builtin_function_or_method",
    "instance",
    "_Feature"
   ],
   "window_display": false
  }
 },
 "nbformat": 4,
 "nbformat_minor": 1
}
